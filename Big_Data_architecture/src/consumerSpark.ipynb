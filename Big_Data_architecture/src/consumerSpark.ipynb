{
 "cells": [
  {
   "cell_type": "markdown",
   "metadata": {},
   "source": [
    "# Spark Kafka Consumer\n",
    "This notebook implements a Kafka consumer that processes messages using Spark."
   ]
  },
  {
   "cell_type": "code",
   "execution_count": null,
   "metadata": {},
   "outputs": [],
   "source": [
    "from confluent_kafka import Consumer, KafkaError\n",
    "import json\n",
    "import pyspark\n",
    "from pyspark.sql import SparkSession"
   ]
  },
  {
   "cell_type": "code",
   "execution_count": null,
   "metadata": {},
   "outputs": [],
   "source": [
    "class SparkKafkaConsumer:\n",
    "    def __init__(self, bootstrap_servers, topic, group_id='spark-consumer-group'):\n",
    "        self.consumer_config = {\n",
    "            'bootstrap.servers': bootstrap_servers,\n",
    "            'group.id': group_id,\n",
    "            'auto.offset.reset': 'earliest'\n",
    "        }\n",
    "        self.topic = topic\n",
    "        \n",
    "        self.spark = SparkSession.builder \\\n",
    "            .appName(\"KafkaFileProcessor\") \\\n",
    "            .getOrCreate()\n",
    "        \n",
    "    def consume_and_process(self):\n",
    "        consumer = Consumer(self.consumer_config)\n",
    "        consumer.subscribe([self.topic])\n",
    "        \n",
    "        try:\n",
    "            while True:\n",
    "                msg = consumer.poll(1.0)\n",
    "                \n",
    "                if msg is None:\n",
    "                    continue\n",
    "                \n",
    "                if msg.error():\n",
    "                    if msg.error().code() == KafkaError._PARTITION_EOF:\n",
    "                        print('Reached end of partition')\n",
    "                    else:\n",
    "                        print(f'Error: {msg.error()}')\n",
    "                    continue\n",
    "                file_path = msg.value().decode('utf-8')\n",
    "                \n",
    "                try:\n",
    "                    with open(file_path, 'r') as file:\n",
    "                        content = file.read()\n",
    "\n",
    "                    df = self.spark.read.json(file_path)\n",
    "                    \n",
    "                    df.show()\n",
    "                    \n",
    "                except Exception as e:\n",
    "                    print(f\"Error processing file {file_path}: {e}\")\n",
    "        \n",
    "        except KeyboardInterrupt:\n",
    "            print(\"Stopping consumer\")\n",
    "        \n",
    "        finally:\n",
    "            consumer.close()\n",
    "            self.spark.stop()"
   ]
  },
  {
   "cell_type": "code",
   "execution_count": null,
   "metadata": {},
   "outputs": [],
   "source": [
    "# Initialize and run the Spark consumer\n",
    "consumer = SparkKafkaConsumer('localhost:29092', 'Comments')\n",
    "consumer.consume_and_process()"
   ]
  }
 ],
 "metadata": {
  "kernelspec": {
   "display_name": "Python 3 (ipykernel)",
   "language": "python",
   "name": "python3"
  },
  "language_info": {
   "codemirror_mode": {
    "name": "ipython",
    "version": 3
   },
   "file_extension": ".py",
   "mimetype": "text/x-python",
   "name": "python",
   "nbconvert_exporter": "python",
   "pygments_lexer": "ipython3",
   "version": "3.12.3"
  }
 },
 "nbformat": 4,
 "nbformat_minor": 4
}
