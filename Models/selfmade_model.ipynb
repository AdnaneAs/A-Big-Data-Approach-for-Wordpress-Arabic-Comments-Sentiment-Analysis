{
 "cells": [
  {
   "cell_type": "markdown",
   "metadata": {},
   "source": [
    "# Data preparation"
   ]
  },
  {
   "cell_type": "code",
   "execution_count": 1,
   "metadata": {},
   "outputs": [
    {
     "name": "stderr",
     "output_type": "stream",
     "text": [
      "2025-02-01 20:32:16.528270: I tensorflow/core/util/port.cc:113] oneDNN custom operations are on. You may see slightly different numerical results due to floating-point round-off errors from different computation orders. To turn them off, set the environment variable `TF_ENABLE_ONEDNN_OPTS=0`.\n",
      "2025-02-01 20:32:16.682658: E external/local_xla/xla/stream_executor/cuda/cuda_dnn.cc:9261] Unable to register cuDNN factory: Attempting to register factory for plugin cuDNN when one has already been registered\n",
      "2025-02-01 20:32:16.682687: E external/local_xla/xla/stream_executor/cuda/cuda_fft.cc:607] Unable to register cuFFT factory: Attempting to register factory for plugin cuFFT when one has already been registered\n",
      "2025-02-01 20:32:16.711077: E external/local_xla/xla/stream_executor/cuda/cuda_blas.cc:1515] Unable to register cuBLAS factory: Attempting to register factory for plugin cuBLAS when one has already been registered\n",
      "2025-02-01 20:32:16.716118: I tensorflow/core/platform/cpu_feature_guard.cc:182] This TensorFlow binary is optimized to use available CPU instructions in performance-critical operations.\n",
      "To enable the following instructions: SSE4.1 SSE4.2 AVX AVX2 AVX512F AVX512_VNNI AVX512_BF16 FMA, in other operations, rebuild TensorFlow with the appropriate compiler flags.\n"
     ]
    }
   ],
   "source": [
    "#importing initial libraries \n",
    "\n",
    "import tensorflow as tf\n",
    "import pandas as pd\n",
    "import numpy as np\n",
    "import matplotlib.pyplot as plt\n",
    "import os\n",
    "from keras.layers import Dense, LSTM, Bidirectional, GRU, SimpleRNN\n",
    "from keras.models import Sequential\n",
    "import nltk\n",
    "import re\n",
    "import tqdm\n"
   ]
  },
  {
   "cell_type": "code",
   "execution_count": 2,
   "metadata": {},
   "outputs": [
    {
     "data": {
      "text/html": [
       "<div>\n",
       "<style scoped>\n",
       "    .dataframe tbody tr th:only-of-type {\n",
       "        vertical-align: middle;\n",
       "    }\n",
       "\n",
       "    .dataframe tbody tr th {\n",
       "        vertical-align: top;\n",
       "    }\n",
       "\n",
       "    .dataframe thead th {\n",
       "        text-align: right;\n",
       "    }\n",
       "</style>\n",
       "<table border=\"1\" class=\"dataframe\">\n",
       "  <thead>\n",
       "    <tr style=\"text-align: right;\">\n",
       "      <th></th>\n",
       "      <th>comment</th>\n",
       "      <th>label</th>\n",
       "    </tr>\n",
       "  </thead>\n",
       "  <tbody>\n",
       "    <tr>\n",
       "      <th>0</th>\n",
       "      <td>لا مقارنة بين منظومة إس 400 و منظومة ثااد\\nمنظ...</td>\n",
       "      <td>negative</td>\n",
       "    </tr>\n",
       "    <tr>\n",
       "      <th>1</th>\n",
       "      <td>بعد هذه الخطوة انتظروا دعم روسيا و الصين لسياد...</td>\n",
       "      <td>negative</td>\n",
       "    </tr>\n",
       "    <tr>\n",
       "      <th>2</th>\n",
       "      <td>* لا يمكن أن يكون حل سياسي دون حرب ، إذن لا بد...</td>\n",
       "      <td>negative</td>\n",
       "    </tr>\n",
       "    <tr>\n",
       "      <th>3</th>\n",
       "      <td>واش حنا ما كاين غير شراء و اقتناء، فين الاستثم...</td>\n",
       "      <td>neutral</td>\n",
       "    </tr>\n",
       "    <tr>\n",
       "      <th>4</th>\n",
       "      <td>بالأمس القريب كان المغاربة في حديثهم عن أسلحة ...</td>\n",
       "      <td>negative</td>\n",
       "    </tr>\n",
       "  </tbody>\n",
       "</table>\n",
       "</div>"
      ],
      "text/plain": [
       "                                             comment     label\n",
       "0  لا مقارنة بين منظومة إس 400 و منظومة ثااد\\nمنظ...  negative\n",
       "1  بعد هذه الخطوة انتظروا دعم روسيا و الصين لسياد...  negative\n",
       "2  * لا يمكن أن يكون حل سياسي دون حرب ، إذن لا بد...  negative\n",
       "3  واش حنا ما كاين غير شراء و اقتناء، فين الاستثم...   neutral\n",
       "4  بالأمس القريب كان المغاربة في حديثهم عن أسلحة ...  negative"
      ]
     },
     "execution_count": 2,
     "metadata": {},
     "output_type": "execute_result"
    }
   ],
   "source": [
    "# import dataset \n",
    "path = '/home/adnane/Desktop/etude_linux/DeepLearning/benchmark/ready_data.csv'\n",
    "df = pd.read_csv(path)\n",
    "df.head()"
   ]
  },
  {
   "cell_type": "code",
   "execution_count": 3,
   "metadata": {},
   "outputs": [
    {
     "data": {
      "text/plain": [
       "(97107, 2)"
      ]
     },
     "execution_count": 3,
     "metadata": {},
     "output_type": "execute_result"
    }
   ],
   "source": [
    "df.shape"
   ]
  },
  {
   "cell_type": "code",
   "execution_count": 4,
   "metadata": {},
   "outputs": [
    {
     "name": "stdout",
     "output_type": "stream",
     "text": [
      "<class 'pandas.core.frame.DataFrame'>\n",
      "RangeIndex: 97107 entries, 0 to 97106\n",
      "Data columns (total 2 columns):\n",
      " #   Column   Non-Null Count  Dtype \n",
      "---  ------   --------------  ----- \n",
      " 0   comment  97107 non-null  object\n",
      " 1   label    97107 non-null  object\n",
      "dtypes: object(2)\n",
      "memory usage: 1.5+ MB\n"
     ]
    }
   ],
   "source": [
    "df.info()"
   ]
  },
  {
   "cell_type": "code",
   "execution_count": 5,
   "metadata": {},
   "outputs": [
    {
     "data": {
      "text/plain": [
       "label\n",
       "negative    47635\n",
       "positive    24905\n",
       "neutral     24567\n",
       "Name: count, dtype: int64"
      ]
     },
     "execution_count": 5,
     "metadata": {},
     "output_type": "execute_result"
    }
   ],
   "source": [
    "df.label.value_counts()"
   ]
  },
  {
   "cell_type": "code",
   "execution_count": 6,
   "metadata": {},
   "outputs": [
    {
     "data": {
      "image/png": "[encoded data removed]",
      "text/plain": [
       "<Figure size 800x400 with 1 Axes>"
      ]
     },
     "metadata": {},
     "output_type": "display_data"
    }
   ],
   "source": [
    "import seaborn as sns\n",
    "\n",
    "plt.figure(figsize=(8,4))\n",
    "sns.countplot(x='label', data=df);"
   ]
  },
  {
   "cell_type": "code",
   "execution_count": 7,
   "metadata": {},
   "outputs": [
    {
     "data": {
      "text/plain": [
       "comment    0\n",
       "label      0\n",
       "dtype: int64"
      ]
     },
     "execution_count": 7,
     "metadata": {},
     "output_type": "execute_result"
    }
   ],
   "source": [
    "#print the number of null values in each column\n",
    "df.isnull().sum()"
   ]
  },
  {
   "cell_type": "code",
   "execution_count": 8,
   "metadata": {},
   "outputs": [
    {
     "data": {
      "text/plain": [
       "9839"
      ]
     },
     "execution_count": 8,
     "metadata": {},
     "output_type": "execute_result"
    }
   ],
   "source": [
    "#print the number of duplicated values \n",
    "df.duplicated().sum()"
   ]
  },
  {
   "cell_type": "code",
   "execution_count": 9,
   "metadata": {},
   "outputs": [
    {
     "data": {
      "text/html": [
       "<div>\n",
       "<style scoped>\n",
       "    .dataframe tbody tr th:only-of-type {\n",
       "        vertical-align: middle;\n",
       "    }\n",
       "\n",
       "    .dataframe tbody tr th {\n",
       "        vertical-align: top;\n",
       "    }\n",
       "\n",
       "    .dataframe thead th {\n",
       "        text-align: right;\n",
       "    }\n",
       "</style>\n",
       "<table border=\"1\" class=\"dataframe\">\n",
       "  <thead>\n",
       "    <tr style=\"text-align: right;\">\n",
       "      <th></th>\n",
       "      <th>comment</th>\n",
       "      <th>label</th>\n",
       "    </tr>\n",
       "  </thead>\n",
       "  <tbody>\n",
       "    <tr>\n",
       "      <th>319</th>\n",
       "      <td>الحكومة الحالية إيجابية وواعدة بالتقدم في مسار...</td>\n",
       "      <td>positive</td>\n",
       "    </tr>\n",
       "    <tr>\n",
       "      <th>320</th>\n",
       "      <td>لا يمكننا نكران ان الحكومة تشتغل على خلق مجلس ...</td>\n",
       "      <td>neutral</td>\n",
       "    </tr>\n",
       "    <tr>\n",
       "      <th>321</th>\n",
       "      <td>الحكومة الحالية تبرز إرادة سياسية إصلاحية قوية...</td>\n",
       "      <td>neutral</td>\n",
       "    </tr>\n",
       "    <tr>\n",
       "      <th>336</th>\n",
       "      <td>اللهم دم العز و النصر و التمكين و الصحة و السل...</td>\n",
       "      <td>positive</td>\n",
       "    </tr>\n",
       "    <tr>\n",
       "      <th>432</th>\n",
       "      <td>نحن على تقة بحكومتنا انها ستعمل بكل جدية من اج...</td>\n",
       "      <td>positive</td>\n",
       "    </tr>\n",
       "    <tr>\n",
       "      <th>...</th>\n",
       "      <td>...</td>\n",
       "      <td>...</td>\n",
       "    </tr>\n",
       "    <tr>\n",
       "      <th>96160</th>\n",
       "      <td>و الله ما لا حظتُه هو أنني عندما أكون في أوروب...</td>\n",
       "      <td>negative</td>\n",
       "    </tr>\n",
       "    <tr>\n",
       "      <th>96161</th>\n",
       "      <td>خصوصا التشجيع على الاندماج و التسامح  و أننا ب...</td>\n",
       "      <td>positive</td>\n",
       "    </tr>\n",
       "    <tr>\n",
       "      <th>96162</th>\n",
       "      <td>جميل هذه المبادرة ان يتعلم المغربي اصوله الدين...</td>\n",
       "      <td>positive</td>\n",
       "    </tr>\n",
       "    <tr>\n",
       "      <th>96163</th>\n",
       "      <td>الدين مسألة شخصية بين الإنسان و ربه يجب ان يفص...</td>\n",
       "      <td>neutral</td>\n",
       "    </tr>\n",
       "    <tr>\n",
       "      <th>96780</th>\n",
       "      <td>إدراج مبدأ المساواة في كافة القوانين هو الخطوة...</td>\n",
       "      <td>positive</td>\n",
       "    </tr>\n",
       "  </tbody>\n",
       "</table>\n",
       "<p>13951 rows × 2 columns</p>\n",
       "</div>"
      ],
      "text/plain": [
       "                                                 comment     label\n",
       "319    الحكومة الحالية إيجابية وواعدة بالتقدم في مسار...  positive\n",
       "320    لا يمكننا نكران ان الحكومة تشتغل على خلق مجلس ...   neutral\n",
       "321    الحكومة الحالية تبرز إرادة سياسية إصلاحية قوية...   neutral\n",
       "336    اللهم دم العز و النصر و التمكين و الصحة و السل...  positive\n",
       "432    نحن على تقة بحكومتنا انها ستعمل بكل جدية من اج...  positive\n",
       "...                                                  ...       ...\n",
       "96160  و الله ما لا حظتُه هو أنني عندما أكون في أوروب...  negative\n",
       "96161  خصوصا التشجيع على الاندماج و التسامح  و أننا ب...  positive\n",
       "96162  جميل هذه المبادرة ان يتعلم المغربي اصوله الدين...  positive\n",
       "96163  الدين مسألة شخصية بين الإنسان و ربه يجب ان يفص...   neutral\n",
       "96780  إدراج مبدأ المساواة في كافة القوانين هو الخطوة...  positive\n",
       "\n",
       "[13951 rows x 2 columns]"
      ]
     },
     "execution_count": 9,
     "metadata": {},
     "output_type": "execute_result"
    }
   ],
   "source": [
    "#print the rows which are duplicated\n",
    "df[df['comment'].duplicated() == True]"
   ]
  },
  {
   "cell_type": "code",
   "execution_count": 10,
   "metadata": {},
   "outputs": [
    {
     "data": {
      "text/html": [
       "<div>\n",
       "<style scoped>\n",
       "    .dataframe tbody tr th:only-of-type {\n",
       "        vertical-align: middle;\n",
       "    }\n",
       "\n",
       "    .dataframe tbody tr th {\n",
       "        vertical-align: top;\n",
       "    }\n",
       "\n",
       "    .dataframe thead th {\n",
       "        text-align: right;\n",
       "    }\n",
       "</style>\n",
       "<table border=\"1\" class=\"dataframe\">\n",
       "  <thead>\n",
       "    <tr style=\"text-align: right;\">\n",
       "      <th></th>\n",
       "      <th>comment</th>\n",
       "      <th>label</th>\n",
       "    </tr>\n",
       "  </thead>\n",
       "  <tbody>\n",
       "    <tr>\n",
       "      <th>76</th>\n",
       "      <td>تشبث غريق بغريق. دويلة تونس هي الدوزيام كرغول....</td>\n",
       "      <td>neutral</td>\n",
       "    </tr>\n",
       "  </tbody>\n",
       "</table>\n",
       "</div>"
      ],
      "text/plain": [
       "                                              comment    label\n",
       "76  تشبث غريق بغريق. دويلة تونس هي الدوزيام كرغول....  neutral"
      ]
     },
     "execution_count": 10,
     "metadata": {},
     "output_type": "execute_result"
    }
   ],
   "source": [
    "df[df['comment'] == df.iloc[76]['comment']]"
   ]
  },
  {
   "cell_type": "code",
   "execution_count": 11,
   "metadata": {},
   "outputs": [],
   "source": [
    "#removing duplicated values\n",
    "index = df[df['comment'].duplicated() == True].index\n",
    "df.drop(index, axis = 0, inplace = True)"
   ]
  },
  {
   "cell_type": "code",
   "execution_count": 12,
   "metadata": {},
   "outputs": [
    {
     "data": {
      "text/plain": [
       "label\n",
       "negative    44575\n",
       "neutral     21109\n",
       "positive    17472\n",
       "Name: count, dtype: int64"
      ]
     },
     "execution_count": 12,
     "metadata": {},
     "output_type": "execute_result"
    }
   ],
   "source": [
    "df.label.value_counts()\n"
   ]
  },
  {
   "cell_type": "markdown",
   "metadata": {},
   "source": [
    "# Data Preprocessing :"
   ]
  },
  {
   "cell_type": "markdown",
   "metadata": {},
   "source": [
    "## stop words definition :"
   ]
  },
  {
   "cell_type": "code",
   "execution_count": 13,
   "metadata": {},
   "outputs": [],
   "source": [
    "# !pip install Arabic-Stopwords\n",
    "\n",
    "import arabicstopwords.arabicstopwords as stp #more range of arabic stop words\n"
   ]
  },
  {
   "cell_type": "code",
   "execution_count": 14,
   "metadata": {},
   "outputs": [
    {
     "data": {
      "text/plain": [
       "754"
      ]
     },
     "execution_count": 14,
     "metadata": {},
     "output_type": "execute_result"
    }
   ],
   "source": [
    "from nltk.corpus import stopwords\n",
    "\n",
    "#are there any stop words in the data?\n",
    "arabic_stopwords = stopwords.words(\"arabic\")\n",
    "len(arabic_stopwords)"
   ]
  },
  {
   "cell_type": "code",
   "execution_count": 15,
   "metadata": {},
   "outputs": [],
   "source": [
    "df['stop_words'] = df['comment'].apply(lambda x: len(set(x.split()) & set(arabic_stopwords)))"
   ]
  },
  {
   "cell_type": "code",
   "execution_count": 16,
   "metadata": {},
   "outputs": [
    {
     "data": {
      "text/plain": [
       "stop_words\n",
       "3     9196\n",
       "4     9067\n",
       "2     8571\n",
       "5     8052\n",
       "6     7092\n",
       "7     6049\n",
       "1     6038\n",
       "8     5127\n",
       "9     4132\n",
       "10    3346\n",
       "0     3095\n",
       "11    2790\n",
       "12    2294\n",
       "13    1753\n",
       "14    1463\n",
       "15    1126\n",
       "16     947\n",
       "17     703\n",
       "18     529\n",
       "19     432\n",
       "20     346\n",
       "21     266\n",
       "22     193\n",
       "23     154\n",
       "24     118\n",
       "25      73\n",
       "26      62\n",
       "27      48\n",
       "28      39\n",
       "29      20\n",
       "30      12\n",
       "31       7\n",
       "32       6\n",
       "33       3\n",
       "34       3\n",
       "42       1\n",
       "37       1\n",
       "41       1\n",
       "38       1\n",
       "Name: count, dtype: int64"
      ]
     },
     "execution_count": 16,
     "metadata": {},
     "output_type": "execute_result"
    }
   ],
   "source": [
    "df.stop_words.value_counts()"
   ]
  },
  {
   "cell_type": "code",
   "execution_count": 17,
   "metadata": {},
   "outputs": [
    {
     "data": {
      "text/html": [
       "<div>\n",
       "<style scoped>\n",
       "    .dataframe tbody tr th:only-of-type {\n",
       "        vertical-align: middle;\n",
       "    }\n",
       "\n",
       "    .dataframe tbody tr th {\n",
       "        vertical-align: top;\n",
       "    }\n",
       "\n",
       "    .dataframe thead th {\n",
       "        text-align: right;\n",
       "    }\n",
       "</style>\n",
       "<table border=\"1\" class=\"dataframe\">\n",
       "  <thead>\n",
       "    <tr style=\"text-align: right;\">\n",
       "      <th></th>\n",
       "      <th>comment</th>\n",
       "      <th>label</th>\n",
       "      <th>stop_words</th>\n",
       "    </tr>\n",
       "  </thead>\n",
       "  <tbody>\n",
       "    <tr>\n",
       "      <th>0</th>\n",
       "      <td>لا مقارنة بين منظومة إس 400 و منظومة ثااد\\nمنظ...</td>\n",
       "      <td>negative</td>\n",
       "      <td>4</td>\n",
       "    </tr>\n",
       "    <tr>\n",
       "      <th>1</th>\n",
       "      <td>بعد هذه الخطوة انتظروا دعم روسيا و الصين لسياد...</td>\n",
       "      <td>negative</td>\n",
       "      <td>5</td>\n",
       "    </tr>\n",
       "    <tr>\n",
       "      <th>2</th>\n",
       "      <td>* لا يمكن أن يكون حل سياسي دون حرب ، إذن لا بد...</td>\n",
       "      <td>negative</td>\n",
       "      <td>11</td>\n",
       "    </tr>\n",
       "    <tr>\n",
       "      <th>3</th>\n",
       "      <td>واش حنا ما كاين غير شراء و اقتناء، فين الاستثم...</td>\n",
       "      <td>neutral</td>\n",
       "      <td>4</td>\n",
       "    </tr>\n",
       "    <tr>\n",
       "      <th>4</th>\n",
       "      <td>بالأمس القريب كان المغاربة في حديثهم عن أسلحة ...</td>\n",
       "      <td>negative</td>\n",
       "      <td>3</td>\n",
       "    </tr>\n",
       "  </tbody>\n",
       "</table>\n",
       "</div>"
      ],
      "text/plain": [
       "                                             comment     label  stop_words\n",
       "0  لا مقارنة بين منظومة إس 400 و منظومة ثااد\\nمنظ...  negative           4\n",
       "1  بعد هذه الخطوة انتظروا دعم روسيا و الصين لسياد...  negative           5\n",
       "2  * لا يمكن أن يكون حل سياسي دون حرب ، إذن لا بد...  negative          11\n",
       "3  واش حنا ما كاين غير شراء و اقتناء، فين الاستثم...   neutral           4\n",
       "4  بالأمس القريب كان المغاربة في حديثهم عن أسلحة ...  negative           3"
      ]
     },
     "execution_count": 17,
     "metadata": {},
     "output_type": "execute_result"
    }
   ],
   "source": [
    "df.head()"
   ]
  },
  {
   "cell_type": "code",
   "execution_count": 18,
   "metadata": {},
   "outputs": [
    {
     "name": "stdout",
     "output_type": "stream",
     "text": [
      "The longest comment in the data has 219 words\n"
     ]
    }
   ],
   "source": [
    "# longest comment in data \n",
    "max_words = df['comment'].apply(lambda x: len(x.split())).max()\n",
    "print('The longest comment in the data has {} words'.format(max_words))"
   ]
  },
  {
   "cell_type": "code",
   "execution_count": 19,
   "metadata": {},
   "outputs": [
    {
     "name": "stdout",
     "output_type": "stream",
     "text": [
      "37.895726105151766\n"
     ]
    }
   ],
   "source": [
    "avg_words = df['comment'].apply(lambda x: len(x.split())).mean()\n",
    "print(avg_words)"
   ]
  },
  {
   "cell_type": "markdown",
   "metadata": {},
   "source": [
    "while we have small comments lenth, and specially working with arabic comments,we choose to not removing stop words which carry subtle sentiment in certain contexts. For example:\n",
    "\"ليس جيدًا\" (\"not good\") has a negative sentiment, and \"ليس\" (a stop word) is essential for understanding the sentiment.\n",
    "s"
   ]
  },
  {
   "cell_type": "markdown",
   "metadata": {},
   "source": [
    "Several natural language processing (NLP) tools for Arabic in Python, such as the Natural Language Toolkit (NLTK), PyArabic, and arabic_nlp.\n",
    "When processing Arabic comments for sentiment analysis or other NLP tasks, we should follow a logical sequence to ensure optimal results. \n",
    "- Tokenization \n",
    "- Normalization\n",
    "- Stemming or Lemmatization\n",
    "-  Part-of-Speech (POS) Tagging\n",
    "- Named Entity Recognition (NER)\n",
    "- word Embeddings"
   ]
  },
  {
   "cell_type": "markdown",
   "metadata": {},
   "source": [
    "| Task                  | Best Libraries/Tools | Why?                                     |\n",
    "|-----------------------|----------------------|------------------------------------------|\n",
    "| Tokenization          | Camel Tools          | Arabic-specific, better morphology handling. |\n",
    "| Normalization         | Pyarabic             | Customizable and reliable for Arabic.    |\n",
    "| Stemming/Lemmatization| Camel Tools          | Handles rich Arabic morphology well.     |\n",
    "| POS Tagging           | NLTK         | Accurate for Arabic grammar.             |\n",
    "| NER                   | Camel Tools          | Specialized for Arabic entities.         |\n",
    "| Word Embeddings       | AraBERT              | Pre-trained Arabic embeddings.           |\n"
   ]
  },
  {
   "cell_type": "code",
   "execution_count": 20,
   "metadata": {},
   "outputs": [
    {
     "data": {
      "text/html": [
       "<div>\n",
       "<style scoped>\n",
       "    .dataframe tbody tr th:only-of-type {\n",
       "        vertical-align: middle;\n",
       "    }\n",
       "\n",
       "    .dataframe tbody tr th {\n",
       "        vertical-align: top;\n",
       "    }\n",
       "\n",
       "    .dataframe thead th {\n",
       "        text-align: right;\n",
       "    }\n",
       "</style>\n",
       "<table border=\"1\" class=\"dataframe\">\n",
       "  <thead>\n",
       "    <tr style=\"text-align: right;\">\n",
       "      <th></th>\n",
       "      <th>comment</th>\n",
       "      <th>label</th>\n",
       "    </tr>\n",
       "  </thead>\n",
       "  <tbody>\n",
       "    <tr>\n",
       "      <th>0</th>\n",
       "      <td>لا مقارنة بين منظومة إس 400 و منظومة ثااد\\nمنظ...</td>\n",
       "      <td>negative</td>\n",
       "    </tr>\n",
       "    <tr>\n",
       "      <th>1</th>\n",
       "      <td>بعد هذه الخطوة انتظروا دعم روسيا و الصين لسياد...</td>\n",
       "      <td>negative</td>\n",
       "    </tr>\n",
       "    <tr>\n",
       "      <th>2</th>\n",
       "      <td>* لا يمكن أن يكون حل سياسي دون حرب ، إذن لا بد...</td>\n",
       "      <td>negative</td>\n",
       "    </tr>\n",
       "    <tr>\n",
       "      <th>3</th>\n",
       "      <td>واش حنا ما كاين غير شراء و اقتناء، فين الاستثم...</td>\n",
       "      <td>neutral</td>\n",
       "    </tr>\n",
       "    <tr>\n",
       "      <th>4</th>\n",
       "      <td>بالأمس القريب كان المغاربة في حديثهم عن أسلحة ...</td>\n",
       "      <td>negative</td>\n",
       "    </tr>\n",
       "  </tbody>\n",
       "</table>\n",
       "</div>"
      ],
      "text/plain": [
       "                                             comment     label\n",
       "0  لا مقارنة بين منظومة إس 400 و منظومة ثااد\\nمنظ...  negative\n",
       "1  بعد هذه الخطوة انتظروا دعم روسيا و الصين لسياد...  negative\n",
       "2  * لا يمكن أن يكون حل سياسي دون حرب ، إذن لا بد...  negative\n",
       "3  واش حنا ما كاين غير شراء و اقتناء، فين الاستثم...   neutral\n",
       "4  بالأمس القريب كان المغاربة في حديثهم عن أسلحة ...  negative"
      ]
     },
     "execution_count": 20,
     "metadata": {},
     "output_type": "execute_result"
    }
   ],
   "source": [
    "# remove column stop_words\n",
    "df.drop('stop_words', axis = 1, inplace = True)\n",
    "df.head()"
   ]
  },
  {
   "cell_type": "code",
   "execution_count": 21,
   "metadata": {},
   "outputs": [
    {
     "name": "stderr",
     "output_type": "stream",
     "text": [
      "[nltk_data] Downloading package averaged_perceptron_tagger to\n",
      "[nltk_data]     /home/adnane/nltk_data...\n",
      "[nltk_data]   Package averaged_perceptron_tagger is already up-to-\n",
      "[nltk_data]       date!\n",
      "[nltk_data] Error loading arabic: Package 'arabic' not found in index\n",
      "[nltk_data] Downloading package punkt to /home/adnane/nltk_data...\n",
      "[nltk_data]   Package punkt is already up-to-date!\n"
     ]
    },
    {
     "data": {
      "text/plain": [
       "True"
      ]
     },
     "execution_count": 21,
     "metadata": {},
     "output_type": "execute_result"
    }
   ],
   "source": [
    "import nltk\n",
    "nltk.download('averaged_perceptron_tagger')\n",
    "nltk.download('arabic')\n",
    "nltk.download('punkt')\n"
   ]
  },
  {
   "cell_type": "markdown",
   "metadata": {},
   "source": [
    "## 1- Tokenization"
   ]
  },
  {
   "cell_type": "code",
   "execution_count": 22,
   "metadata": {},
   "outputs": [
    {
     "name": "stderr",
     "output_type": "stream",
     "text": [
      "/home/adnane/anaconda3/envs/tf2.15_gpu/lib/python3.10/site-packages/tqdm/auto.py:21: TqdmWarning: IProgress not found. Please update jupyter and ipywidgets. See https://ipywidgets.readthedocs.io/en/stable/user_install.html\n",
      "  from .autonotebook import tqdm as notebook_tqdm\n"
     ]
    }
   ],
   "source": [
    "from nltk.tokenize import word_tokenize\n",
    "from transformers import AutoTokenizer, AutoModel\n",
    "\n",
    "from pyarabic.araby import strip_tashkeel, normalize_hamza, strip_tatweel\n",
    "from camel_tools.tokenizers.word import simple_word_tokenize"
   ]
  },
  {
   "cell_type": "code",
   "execution_count": 23,
   "metadata": {},
   "outputs": [],
   "source": [
    "from tqdm import tqdm\n",
    "tokenizer = simple_word_tokenize \n",
    "def tokenize(df):\n",
    "    tqdm.pandas(desc=\"Tokenizing\")\n",
    "    df['tokens'] = df['comment'].progress_apply(lambda x: simple_word_tokenize(x))\n",
    "    return df\n"
   ]
  },
  {
   "cell_type": "code",
   "execution_count": 24,
   "metadata": {},
   "outputs": [],
   "source": [
    "\n",
    "def normalizeArabic(text):\n",
    "    text = \" \".join(text)  # Join tokens back into a single string\n",
    "    text = text.strip()  # Remove leading and trailing whitespaces\n",
    "    text = re.sub(\"ى\", \"ي\", text)\n",
    "    text = re.sub(\"ؤ\", \"ء\", text)\n",
    "    text = re.sub(\"ئ\", \"ء\", text)\n",
    "    text = re.sub(\"ة\", \"ه\", text)\n",
    "    \n",
    "    # Remove repetitions\n",
    "    text = re.sub(\"[إأٱآا]\", \"ا\", text)\n",
    "    text = text.replace(\"وو\", \"و\")\n",
    "    text = text.replace(\"يي\", \"ي\")\n",
    "    text = text.replace(\"ييي\", \"ي\")\n",
    "    text = text.replace(\"اا\", \"ا\")\n",
    "\n",
    "    # Remove extra whitespace\n",
    "    text = re.sub(\"\\s+\", \" \", text)\n",
    "    \n",
    "    # Normalize Arabic text\n",
    "    text = strip_tashkeel(text)  # Remove diacritics\n",
    "    text = normalize_hamza(text)  # Normalize Hamza forms\n",
    "    text = strip_tatweel(text)  # Remove elongation\n",
    "    \n",
    "    # Remove digits\n",
    "    text = \"\".join([i for i in text if not i.isdigit()])\n",
    "    \n",
    "    return text.split()  # Return the normalized text as tokens\n",
    "\n",
    "def normalize_arabic_column(df, column_name='tokens'):\n",
    "    tqdm.pandas(desc=\"Normalizing Arabic Text\")\n",
    "    df['normalized_comment'] = df[column_name].progress_apply(normalizeArabic)\n",
    "    return df"
   ]
  },
  {
   "cell_type": "markdown",
   "metadata": {},
   "source": [
    "## NER (named entity recognition)"
   ]
  },
  {
   "cell_type": "code",
   "execution_count": 25,
   "metadata": {},
   "outputs": [],
   "source": [
    "from camel_tools.ner import NERecognizer\n",
    "import ast\n",
    "\n",
    "def ner_arabic_camel(df, column_name='normalized_comment'):\n",
    "    # Initialize the NER model\n",
    "    ner = NERecognizer.pretrained()\n",
    "    \n",
    "    def extract_entities(text):\n",
    "        # Convert string representation of list to actual list\n",
    "        if isinstance(text, str):\n",
    "            try:\n",
    "                # Handle string representation of list\n",
    "                tokens = ast.literal_eval(text)\n",
    "            except:\n",
    "                # If not a list representation, split by space\n",
    "                tokens = text.split()\n",
    "        elif isinstance(text, list):\n",
    "            tokens = text\n",
    "        else:\n",
    "            return []\n",
    "        \n",
    "        # Get NER predictions\n",
    "        entities = ner.predict_sentence(tokens)\n",
    "        return [(token, label) for token, label in zip(tokens, entities)]\n",
    "    \n",
    "    # Process only first row for testing\n",
    "    first_row = df[column_name].iloc[0]\n",
    "    print(\"\\nProcessing first row for testing:\")\n",
    "    print(\"-\" * 50)\n",
    "    result = extract_entities(first_row)\n",
    "    print(\"\\nNER Result:\")\n",
    "    print(result)\n",
    "    \n",
    "    # # Ask for confirmation to process more data\n",
    "    # user_input = input(\"\\nDo you want to process more data? (yes/no): \")\n",
    "    \n",
    "    # if user_input.lower() == 'yes':\n",
    "    #     # Process first 5 rows\n",
    "    #     sample_df = df.head(5).copy()\n",
    "    #     print(\"\\nProcessing first 5 rows...\")\n",
    "    #     tqdm.pandas(desc=\"Extracting Named Entities\")\n",
    "    #     sample_df['ner'] = sample_df[column_name].progress_apply(extract_entities)\n",
    "    #     return sample_df\n",
    "    # else:\n",
    "    #     print(\"\\nProcessing stopped after first row.\")\n",
    "    #     return pd.DataFrame({'ner': [result]})\n",
    "\n",
    "    # Process all rows\n",
    "    tqdm.pandas(desc=\"Extracting Named Entities\")\n",
    "    df['ner'] = df[column_name].progress_apply(extract_entities)\n",
    "    return df\n"
   ]
  },
  {
   "cell_type": "markdown",
   "metadata": {},
   "source": [
    "## Part-of-Speech (POS) Tagging with NLTK\n"
   ]
  },
  {
   "cell_type": "code",
   "execution_count": 26,
   "metadata": {},
   "outputs": [],
   "source": [
    "from camel_tools.disambig.mle import MLEDisambiguator\n",
    "from camel_tools.tagger.default import DefaultTagger"
   ]
  },
  {
   "cell_type": "code",
   "execution_count": 27,
   "metadata": {},
   "outputs": [],
   "source": [
    "def pos_tag_arabic_nltk(df, column_name='normalized_comment'):\n",
    "    \"\"\"Process POS tagging for Arabic text and add as dataframe column\"\"\"\n",
    "    def process_text(text):\n",
    "        # Handle input text (similar to NER function)\n",
    "        if isinstance(text, str):\n",
    "            try:\n",
    "                tokens = ast.literal_eval(text)\n",
    "            except:\n",
    "                tokens = text.split()\n",
    "        elif isinstance(text, list):\n",
    "            tokens = text\n",
    "        else:\n",
    "            return []\n",
    "        \n",
    "        # Perform POS tagging\n",
    "        tagged = nltk.pos_tag(tokens)\n",
    "        return [(token, tag) for token, tag in tagged]\n",
    "    \n",
    "    # Process first 5 rows for preview\n",
    "    print(\"\\nProcessing first 5 rows for POS tagging:\")\n",
    "    print(\"-\" * 50)\n",
    "    for i in range(min(5, len(df))):\n",
    "        result = process_text(df[column_name].iloc[i])\n",
    "        print(f\"\\nRow {i+1} POS Tagging Result:\")\n",
    "        print(result)\n",
    "    \n",
    "    # Ask for confirmation\n",
    "    user_input = input(\"\\nContinue processing all rows? (y/n): \")\n",
    "    if user_input.lower() != 'y':\n",
    "        return df\n",
    "    \n",
    "    # Process all rows\n",
    "    tqdm.pandas(desc=\"Performing POS Tagging\")\n",
    "    df['pos_tags'] = df[column_name].progress_apply(process_text)\n",
    "    return df\n"
   ]
  },
  {
   "cell_type": "markdown",
   "metadata": {},
   "source": [
    "## Stemming with nltk"
   ]
  },
  {
   "cell_type": "code",
   "execution_count": 28,
   "metadata": {},
   "outputs": [],
   "source": [
    "from nltk.stem.isri import ISRIStemmer\n",
    "\n",
    "def stem_arabic_nltk(df, column_name='normalized_comment'):\n",
    "    \"\"\"Process stemming for Arabic text and add as dataframe column\"\"\"\n",
    "    stemmer = ISRIStemmer()\n",
    "    \n",
    "    def process_text(text):\n",
    "        # Handle input text (similar to NER function)\n",
    "        if isinstance(text, str):\n",
    "            try:\n",
    "                tokens = ast.literal_eval(text)\n",
    "            except:\n",
    "                tokens = text.split()\n",
    "        elif isinstance(text, list):\n",
    "            tokens = text\n",
    "        else:\n",
    "            return []\n",
    "        \n",
    "        # Perform stemming\n",
    "        stemmed = [stemmer.stem(token) for token in tokens]\n",
    "        return [(token, stemmed_token) for token, stemmed_token in zip(tokens, stemmed)]\n",
    "    \n",
    "    # Process first 5 rows for preview\n",
    "    print(\"\\nProcessing first 5 rows for stemming:\")\n",
    "    print(\"-\" * 50)\n",
    "    for i in range(min(5, len(df))):\n",
    "        result = process_text(df[column_name].iloc[i])\n",
    "        print(f\"\\nRow {i+1} Stemming Result:\")\n",
    "        print(result)\n",
    "    \n",
    "    # Ask for confirmation\n",
    "    user_input = input(\"\\nContinue processing all rows? (y/n): \")\n",
    "    if user_input.lower() != 'y':\n",
    "        return df\n",
    "    \n",
    "    # Process all rows\n",
    "    tqdm.pandas(desc=\"Performing Stemming\")\n",
    "    df['stemmed'] = df[column_name].progress_apply(process_text)\n",
    "    return df"
   ]
  },
  {
   "cell_type": "markdown",
   "metadata": {},
   "source": [
    "## Lemmatization with nltk"
   ]
  },
  {
   "cell_type": "code",
   "execution_count": 29,
   "metadata": {},
   "outputs": [],
   "source": [
    "from camel_tools.morphology.database import MorphologyDB\n",
    "from camel_tools.morphology.analyzer import Analyzer\n",
    "import pandas as pd\n",
    "from tqdm import tqdm\n",
    "\n",
    "# Initialize the Arabic lemmatizer using camel_tools\n",
    "arabic_lemmatizer = Analyzer(MorphologyDB.builtin_db('calima-msa-r13'))\n",
    "\n",
    "def lemmatize_arabic_camel_tools(df, column_name='normalized_comment'):\n",
    "    \"\"\"Process lemmatization for Arabic text using camel_tools and add as dataframe column\"\"\"\n",
    "\n",
    "    def process_text(text):\n",
    "        # Handle input text\n",
    "        if isinstance(text, str):\n",
    "            tokens = text.split()  # Split text into tokens\n",
    "        elif isinstance(text, list):\n",
    "            tokens = text  # Use the list directly\n",
    "        else:\n",
    "            return []  # Return an empty list for unsupported types\n",
    "\n",
    "        # Perform lemmatization using camel_tools Analyzer\n",
    "        lemmatized = []\n",
    "        for token in tokens:\n",
    "            analyses = arabic_lemmatizer.analyze(token)\n",
    "            if analyses:\n",
    "                # Get the lemma from the first analysis (most likely analysis)\n",
    "                lemma = analyses[0]['lex']\n",
    "                lemmatized.append(lemma)\n",
    "            else:\n",
    "                # If no analysis is found, keep the original token\n",
    "                lemmatized.append(token)\n",
    "\n",
    "        # Return a list of tuples: (original_token, lemmatized_token)\n",
    "        return list(zip(tokens, lemmatized))\n",
    "\n",
    "    # Process first 5 rows for preview\n",
    "    print(\"\\nProcessing first 5 rows for lemmatization:\")\n",
    "    print(\"-\" * 50)\n",
    "    for i in range(min(5, len(df))):\n",
    "        result = process_text(df[column_name].iloc[i])\n",
    "        print(f\"\\nRow {i+1} Lemmatization Result:\")\n",
    "        print(result)\n",
    "\n",
    "    # Ask for confirmation\n",
    "    user_input = input(\"\\nContinue processing all rows? (y/n): \")\n",
    "    if user_input.lower() != 'y':\n",
    "        return df  # Exit early if the user does not confirm\n",
    "\n",
    "    # Process all rows with a progress bar\n",
    "    tqdm.pandas(desc=\"Performing Lemmatization\")\n",
    "    df['lemmatized'] = df[column_name].progress_apply(process_text)\n",
    "\n",
    "    return df"
   ]
  },
  {
   "cell_type": "code",
   "execution_count": 30,
   "metadata": {},
   "outputs": [],
   "source": [
    "import re\n",
    "from sklearn.feature_extraction.text import CountVectorizer, TfidfVectorizer\n",
    "import pandas as pd\n",
    "import ast\n",
    "from tqdm import tqdm\n",
    "\n",
    "def remove_punctuation(text):\n",
    "    \"\"\"\n",
    "    Remove punctuation from Arabic text.\n",
    "    \"\"\"\n",
    "    # Define Arabic punctuation marks\n",
    "    arabic_punctuation = r'[،؛؟.!\"\\'()\\[\\]{}<>:;،؟]'\n",
    "    return re.sub(arabic_punctuation, ' ', text)\n",
    "\n",
    "def safe_convert_lemmas(lemma_str):\n",
    "    \"\"\"\n",
    "    Safely convert string representation of lemmas to actual list of lemmas (second element in each tuple).\n",
    "    \"\"\"\n",
    "    try:\n",
    "        lemmas = ast.literal_eval(lemma_str)  # Convert string to list of tuples\n",
    "        if isinstance(lemmas, list):\n",
    "            # Extract the second element (lemma) from each tuple if the tuple has at least 2 elements\n",
    "            return [item[1] for item in lemmas if len(item) >= 2]\n",
    "        return []\n",
    "    except:\n",
    "        return []\n",
    "\n",
    "def custom_tokenizer(text):\n",
    "    \"\"\"\n",
    "    Custom tokenizer to split text into lemmas based on spaces.\n",
    "    \"\"\"\n",
    "    return text.split()\n",
    "\n",
    "def calculate_bow_and_tfidf(df, lemmatized_column='lemmatized', max_features=50):\n",
    "    \"\"\"\n",
    "    Final fixed version with proper DataFrame handling.\n",
    "    \"\"\"\n",
    "    \n",
    "    # 1. Convert string lemmas to actual lists of lemmas\n",
    "    tqdm.pandas(desc=\"Converting lemma strings\")\n",
    "    df['clean_lemmas'] = df[lemmatized_column].progress_apply(safe_convert_lemmas)\n",
    "    \n",
    "    # 2. Create lemma text column by joining the lemmas into a single string\n",
    "    df['lemma_text'] = df['clean_lemmas'].apply(\n",
    "        lambda x: ' '.join(x) if isinstance(x, list) else ''\n",
    "    )\n",
    "    \n",
    "    # 3. Remove punctuation from the lemma text\n",
    "    df['lemma_text'] = df['lemma_text'].apply(remove_punctuation)\n",
    "    \n",
    "    # 4. Filter out rows with empty lemma text and reset index\n",
    "    df = df[df['lemma_text'].str.strip() != ''].copy()\n",
    "    df = df.reset_index(drop=True)\n",
    "    \n",
    "    # 5. Create vectorizers with custom tokenizer\n",
    "    bow_vectorizer = CountVectorizer(\n",
    "        max_features=max_features,\n",
    "        tokenizer=custom_tokenizer,  # Use custom tokenizer\n",
    "        token_pattern=None  # Disable default token pattern\n",
    "    )\n",
    "    tfidf_vectorizer = TfidfVectorizer(\n",
    "        max_features=max_features,\n",
    "        tokenizer=custom_tokenizer,  # Use custom tokenizer\n",
    "        token_pattern=None  # Disable default token pattern\n",
    "    )\n",
    "    \n",
    "    # 6. Generate matrices\n",
    "    bow_matrix = bow_vectorizer.fit_transform(df['lemma_text'])\n",
    "    tfidf_matrix = tfidf_vectorizer.fit_transform(df['lemma_text'])\n",
    "    \n",
    "    # 7. Create DataFrames with proper text reference\n",
    "    def create_feature_df(matrix, vectorizer):\n",
    "        feature_df = pd.DataFrame.sparse.from_spmatrix(\n",
    "            matrix, \n",
    "            columns=vectorizer.get_feature_names_out()\n",
    "        )\n",
    "        feature_df.insert(0, 'Original Text', df['lemma_text'].values)\n",
    "        return feature_df\n",
    "    \n",
    "    bow_df = create_feature_df(bow_matrix, bow_vectorizer)\n",
    "    tfidf_df = create_feature_df(tfidf_matrix, tfidf_vectorizer)\n",
    "    \n",
    "    # 8. Format output\n",
    "    print(\"\\n═\"*40 + \" BOW \" + \"═\"*40)\n",
    "    print(bow_df.head())\n",
    "    \n",
    "    print(\"\\n═\"*40 + \" TF-IDF \" + \"═\"*40)\n",
    "    print(tfidf_df.head().style.format(\"{:.3f}\"))\n",
    "    \n",
    "    return bow_df, tfidf_df, (bow_vectorizer, tfidf_vectorizer)"
   ]
  },
  {
   "cell_type": "markdown",
   "metadata": {},
   "source": [
    "## Word Frequency (BoW & TF-IDF)"
   ]
  },
  {
   "cell_type": "code",
   "execution_count": 31,
   "metadata": {},
   "outputs": [],
   "source": [
    "import matplotlib.pyplot as plt\n",
    "import seaborn as sns\n",
    "from tabulate import tabulate\n",
    "\n",
    "def visualize_and_display_results(bow_df, tfidf_df, vectorizers, top_n=10):\n",
    "    \"\"\"\n",
    "    Visualize and display the results of BOW and TF-IDF matrices with Arabic support.\n",
    "    \n",
    "    Parameters:\n",
    "    - bow_df: DataFrame containing the Bag of Words (BOW) matrix.\n",
    "    - tfidf_df: DataFrame containing the TF-IDF matrix.\n",
    "    - vectorizers: Tuple containing the BOW and TF-IDF vectorizers.\n",
    "    - top_n: Number of top features to display in visualizations and lists.\n",
    "    \"\"\"\n",
    "    \n",
    "    # Extract feature names from the vectorizers\n",
    "    bow_vectorizer, tfidf_vectorizer = vectorizers\n",
    "    bow_features = bow_vectorizer.get_feature_names_out()\n",
    "    tfidf_features = tfidf_vectorizer.get_feature_names_out()\n",
    "    \n",
    "    # Sum the counts for BOW and TF-IDF to get the most important features\n",
    "    bow_sum = bow_df.drop(columns=['Original Text']).sum().sort_values(ascending=False)\n",
    "    tfidf_sum = tfidf_df.drop(columns=['Original Text']).sum().sort_values(ascending=False)\n",
    "    \n",
    "    # Plot the top N features for BOW\n",
    "    plt.figure(figsize=(12, 6))\n",
    "    sns.barplot(x=bow_sum.head(top_n).values, y=bow_sum.head(top_n).index, palette=\"viridis\")\n",
    "    plt.title(f'Top {top_n} BOW Features')\n",
    "    plt.xlabel('Frequency')\n",
    "    plt.ylabel('Features')\n",
    "    plt.tight_layout()  # Ensure proper layout for Arabic text\n",
    "    plt.show()\n",
    "    \n",
    "    # Plot the top N features for TF-IDF\n",
    "    plt.figure(figsize=(12, 6))\n",
    "    sns.barplot(x=tfidf_sum.head(top_n).values, y=tfidf_sum.head(top_n).index, palette=\"magma\")\n",
    "    plt.title(f'Top {top_n} TF-IDF Features')\n",
    "    plt.xlabel('TF-IDF Score')\n",
    "    plt.ylabel('Features')\n",
    "    plt.tight_layout()  # Ensure proper layout for Arabic text\n",
    "    plt.show()\n",
    "    \n",
    "    # Display the top N features in a table format\n",
    "    # print(\"\\n═\"*40 + \" Top BOW Features \" + \"═\"*40)\n",
    "    print(tabulate(bow_sum.head(top_n).reset_index(), headers=['Feature', 'Frequency'], tablefmt='pretty'))\n",
    "    \n",
    "    # print(\"\\n═\"*40 + \" Top TF-IDF Features \" + \"═\"*40)\n",
    "    print(tabulate(tfidf_sum.head(top_n).reset_index(), headers=['Feature', 'TF-IDF Score'], tablefmt='pretty'))\n",
    "    \n",
    "    # Print a simple list of top words for BOW and TF-IDF\n",
    "    # print(\"\\n═\"*40 + \" Simple List of Top BOW Words \" + \"═\"*40)\n",
    "    print(bow_sum.head(top_n).index.tolist())\n",
    "    \n",
    "    # print(\"\\n═\"*40 + \" Simple List of Top TF-IDF Words \" + \"═\"*40)\n",
    "    print(tfidf_sum.head(top_n).index.tolist())"
   ]
  },
  {
   "cell_type": "markdown",
   "metadata": {},
   "source": [
    "## 6.Word Embeddings with AraBERT"
   ]
  },
  {
   "cell_type": "code",
   "execution_count": 32,
   "metadata": {},
   "outputs": [],
   "source": [
    "import torch\n",
    "from transformers import AutoTokenizer, AutoModel\n",
    "import numpy as np\n",
    "import pandas as pd\n",
    "from tqdm import tqdm\n",
    "\n",
    "# Load AraBERT model and tokenizer\n",
    "MODEL_NAME = \"aubmindlab/bert-base-arabertv02\"  # Pre-trained AraBERT model\n",
    "tokenizer = AutoTokenizer.from_pretrained(MODEL_NAME)\n",
    "model = AutoModel.from_pretrained(MODEL_NAME)\n",
    "\n",
    "# Move model to GPU if available\n",
    "device = torch.device(\"cuda\" if torch.cuda.is_available() else \"cpu\")\n",
    "model.to(device)\n",
    "\n",
    "def generate_embeddings_arabert(df, column_name='lemmatized', max_length=128, batch_size=32):\n",
    "    \"\"\"\n",
    "    Generate embeddings for a DataFrame column containing Arabic text using AraBERT.\n",
    "    \n",
    "    Args:\n",
    "        df (pd.DataFrame): DataFrame containing the text data.\n",
    "        column_name (str): Name of the column containing the Arabic text.\n",
    "        max_length (int): Maximum sequence length for tokenization.\n",
    "        batch_size (int): Number of texts to process in each batch.\n",
    "    \n",
    "    Returns:\n",
    "        df (pd.DataFrame): Original DataFrame with an additional column for embeddings.\n",
    "        embeddings (numpy.ndarray): Array of embeddings for the input texts.\n",
    "    \"\"\"\n",
    "    # Extract texts from the specified column\n",
    "    texts = df[column_name].tolist()\n",
    "    \n",
    "    # Initialize a list to store embeddings\n",
    "    embeddings = []\n",
    "    \n",
    "    # Process texts in batches\n",
    "    for i in tqdm(range(0, len(texts), batch_size), desc=\"Generating embeddings\"):\n",
    "        batch_texts = texts[i:i + batch_size]\n",
    "        \n",
    "        # Tokenize the batch\n",
    "        inputs = tokenizer(\n",
    "            batch_texts,\n",
    "            padding=True,\n",
    "            truncation=True,\n",
    "            max_length=max_length,\n",
    "            return_tensors=\"pt\"\n",
    "        ).to(device)  # Move inputs to GPU\n",
    "        \n",
    "        # Generate embeddings\n",
    "        with torch.no_grad():\n",
    "            outputs = model(**inputs)\n",
    "        \n",
    "        # Use the [CLS] token embedding as the sentence embedding\n",
    "        batch_embeddings = outputs.last_hidden_state[:, 0, :].cpu().numpy()\n",
    "        embeddings.extend(batch_embeddings)\n",
    "    \n",
    "    # Convert embeddings to a NumPy array\n",
    "    embeddings = np.array(embeddings)\n",
    "    \n",
    "    # Add embeddings to the DataFrame as a new column\n",
    "    df['embeddings'] = list(embeddings)\n",
    "    \n",
    "    return df, embeddings\n",
    "\n",
    "def save_embeddings(embeddings, file_path):\n",
    "    \"\"\"\n",
    "    Save embeddings to a file.\n",
    "    \n",
    "    Args:\n",
    "        embeddings (numpy.ndarray): Embeddings to save.\n",
    "        file_path (str): Path to save the embeddings (e.g., 'embeddings.npy').\n",
    "    \"\"\"\n",
    "    np.save(file_path, embeddings)\n",
    "    print(f\"Embeddings saved to {file_path}\")\n",
    "\n",
    "def load_embeddings(file_path):\n",
    "    \"\"\"\n",
    "    Load embeddings from a file.\n",
    "    \n",
    "    Args:\n",
    "        file_path (str): Path to the saved embeddings file.\n",
    "    \n",
    "    Returns:\n",
    "        embeddings (numpy.ndarray): Loaded embeddings.\n",
    "    \"\"\"\n",
    "    embeddings = np.load(file_path)\n",
    "    print(f\"Embeddings loaded from {file_path}\")\n",
    "    return embeddings\n"
   ]
  },
  {
   "cell_type": "markdown",
   "metadata": {},
   "source": [
    "## executing : "
   ]
  },
  {
   "cell_type": "code",
   "execution_count": 33,
   "metadata": {},
   "outputs": [],
   "source": [
    "# df = pd.read_csv('ready_data.csv')\n",
    "# df = pd.read_csv('ner_data.csv')\n",
    "# df = pf.read_csv('pos_data.csv')\n",
    "# df = pd.read_csv('stemmed_data.csv')\n",
    "# df = pd.read_csv('lemmatized_data.csv')\n",
    "df = pd.read_csv('embedded.csv')"
   ]
  },
  {
   "cell_type": "code",
   "execution_count": 34,
   "metadata": {},
   "outputs": [],
   "source": [
    "# df = tokenize(df)"
   ]
  },
  {
   "cell_type": "code",
   "execution_count": 35,
   "metadata": {},
   "outputs": [],
   "source": [
    "# print first line of tokens\n",
    "# df['tokens'].head()[0]"
   ]
  },
  {
   "cell_type": "code",
   "execution_count": 36,
   "metadata": {},
   "outputs": [],
   "source": [
    "# df = normalize_arabic_column(df, column_name='tokens')"
   ]
  },
  {
   "cell_type": "code",
   "execution_count": 37,
   "metadata": {},
   "outputs": [],
   "source": [
    "# df['normalized_comment'].head()[0]"
   ]
  },
  {
   "cell_type": "code",
   "execution_count": 38,
   "metadata": {},
   "outputs": [],
   "source": [
    "# ner :\n",
    "# df = ner_arabic_camel(df)"
   ]
  },
  {
   "cell_type": "code",
   "execution_count": 39,
   "metadata": {},
   "outputs": [],
   "source": [
    "# df['ner'].head()[0]"
   ]
  },
  {
   "cell_type": "code",
   "execution_count": 40,
   "metadata": {},
   "outputs": [],
   "source": [
    "# df.to_csv('ner_data.csv', index=False)"
   ]
  },
  {
   "cell_type": "code",
   "execution_count": 41,
   "metadata": {},
   "outputs": [],
   "source": [
    "# pos tagging\n",
    "# df = pos_tag_arabic_nltk(df)"
   ]
  },
  {
   "cell_type": "code",
   "execution_count": 42,
   "metadata": {},
   "outputs": [],
   "source": [
    "# df['pos_tags'].head()[0]"
   ]
  },
  {
   "cell_type": "code",
   "execution_count": 43,
   "metadata": {},
   "outputs": [],
   "source": [
    "# df.to_csv('pos_data.csv', index=False)"
   ]
  },
  {
   "cell_type": "code",
   "execution_count": 44,
   "metadata": {},
   "outputs": [],
   "source": [
    "# df = stem_arabic_nltk(df)\n"
   ]
  },
  {
   "cell_type": "code",
   "execution_count": 45,
   "metadata": {},
   "outputs": [],
   "source": [
    "# df['stemmed'].head()[0]"
   ]
  },
  {
   "cell_type": "code",
   "execution_count": 46,
   "metadata": {},
   "outputs": [],
   "source": [
    "# df.to_csv('stemmed_data.csv', index=False)"
   ]
  },
  {
   "cell_type": "code",
   "execution_count": 47,
   "metadata": {},
   "outputs": [],
   "source": [
    "# lemmatization\n",
    "# df = lemmatize_arabic_camel_tools(df)"
   ]
  },
  {
   "cell_type": "code",
   "execution_count": 48,
   "metadata": {},
   "outputs": [],
   "source": [
    "# df['lemmatized'].head()[0]"
   ]
  },
  {
   "cell_type": "code",
   "execution_count": 49,
   "metadata": {},
   "outputs": [],
   "source": [
    "# df.to_csv('lemmatized_data.csv', index=False)"
   ]
  },
  {
   "cell_type": "markdown",
   "metadata": {},
   "source": [
    "## lets now perform a bag of word and tf_idf approche, to vectorise our data , then compare it with th result of a word embedding using arabert"
   ]
  },
  {
   "cell_type": "code",
   "execution_count": 50,
   "metadata": {},
   "outputs": [],
   "source": [
    "from sklearn.feature_extraction.text import CountVectorizer, TfidfVectorizer\n",
    "from transformers import AutoTokenizer, AutoModel\n",
    "import torch\n",
    "import tensorflow as tf\n",
    "from tensorflow.keras.preprocessing.text import Tokenizer\n",
    "from tensorflow.keras.preprocessing.sequence import pad_sequences\n",
    "from tensorflow.keras.layers import Embedding, LSTM, Dense\n",
    "from tensorflow.keras.models import Sequential"
   ]
  },
  {
   "cell_type": "code",
   "execution_count": 51,
   "metadata": {},
   "outputs": [],
   "source": [
    "# bow_df, tfidf_df, vectorizers = calculate_bow_and_tfidf(df)"
   ]
  },
  {
   "cell_type": "code",
   "execution_count": 52,
   "metadata": {},
   "outputs": [],
   "source": [
    "# bow_df.head()"
   ]
  },
  {
   "cell_type": "code",
   "execution_count": 53,
   "metadata": {},
   "outputs": [],
   "source": [
    "# tfidf_df.head()"
   ]
  },
  {
   "cell_type": "code",
   "execution_count": 54,
   "metadata": {},
   "outputs": [],
   "source": [
    "# visualize_and_display_results(bow_df, tfidf_df, vectorizers, top_n=10)"
   ]
  },
  {
   "cell_type": "code",
   "execution_count": 55,
   "metadata": {},
   "outputs": [],
   "source": [
    "# df, embeddings = generate_embeddings_arabert(df, column_name='lemmatized')\n",
    "# print(\"Generated embeddings shape:\", embeddings.shape)\n",
    "# print(\"DataFrame with embeddings:\")\n",
    "# print(df.head())"
   ]
  },
  {
   "cell_type": "code",
   "execution_count": 56,
   "metadata": {},
   "outputs": [],
   "source": [
    "# df['embeddings'].head()"
   ]
  },
  {
   "cell_type": "code",
   "execution_count": 57,
   "metadata": {},
   "outputs": [],
   "source": [
    "# Save embeddings\n",
    "# save_embeddings(embeddings, \"arabert_embeddings.npy\")\n",
    "    "
   ]
  },
  {
   "cell_type": "code",
   "execution_count": 58,
   "metadata": {},
   "outputs": [],
   "source": [
    "# df.to_csv('embedded.csv', index=False)"
   ]
  },
  {
   "cell_type": "markdown",
   "metadata": {},
   "source": [
    "# MODELS TRAINING "
   ]
  },
  {
   "cell_type": "markdown",
   "metadata": {},
   "source": [
    "The labels are categorical, so mapping them to numerical values is necessary. Splitting the data into train, validation, and test sets is also important for model evaluation. The embeddings are stored as objects; converting them to NumPy arrays will be needed for model input."
   ]
  },
  {
   "cell_type": "markdown",
   "metadata": {},
   "source": [
    "Next, model architectures. For LSTM, a simple architecture with an LSTM layer followed by dense layers. Adding attention to LSTM can help focus on important words. GRU is similar but might be faster. Transformers with attention are more complex but powerful.\n",
    "\n",
    "For each model, we need to build these models using Keras. For the LSTM with attention, We'll have to implement a custom attention layer. The transformer architecture will require positional encoding and multi-head attention layers. Each model should be compiled with appropriate loss and metrics.\n",
    "Training each model with the same data splits ensures fair comparison. Using early stopping can prevent overfitting. After training, plotting the loss and accuracy curves will show how each model performs over epochs.\n",
    "\n",
    "Evaluating on the test set gives the final metrics. Comparing accuracy, F1-score, etc., will help choose the best model. Saving the best model in H5 format allows reuse without retraining."
   ]
  },
  {
   "cell_type": "code",
   "execution_count": 59,
   "metadata": {},
   "outputs": [
    {
     "name": "stdout",
     "output_type": "stream",
     "text": [
      "<class 'pandas.core.frame.DataFrame'>\n",
      "RangeIndex: 83156 entries, 0 to 83155\n",
      "Data columns (total 11 columns):\n",
      " #   Column              Non-Null Count  Dtype \n",
      "---  ------              --------------  ----- \n",
      " 0   comment             83156 non-null  object\n",
      " 1   label               83156 non-null  object\n",
      " 2   tokens              83156 non-null  object\n",
      " 3   normalized_comment  83156 non-null  object\n",
      " 4   ner                 83156 non-null  object\n",
      " 5   pos_tags            83156 non-null  object\n",
      " 6   stemmed             83156 non-null  object\n",
      " 7   lemmatized          83156 non-null  object\n",
      " 8   clean_lemmas        83156 non-null  object\n",
      " 9   lemma_text          83156 non-null  object\n",
      " 10  embeddings          83156 non-null  object\n",
      "dtypes: object(11)\n",
      "memory usage: 7.0+ MB\n"
     ]
    }
   ],
   "source": [
    "df.info()"
   ]
  },
  {
   "cell_type": "markdown",
   "metadata": {},
   "source": [
    "## Step 1: Data Preparation\n",
    "First, let's prepare the data and labels:\n",
    "\n"
   ]
  },
  {
   "cell_type": "code",
   "execution_count": 60,
   "metadata": {},
   "outputs": [
    {
     "name": "stdout",
     "output_type": "stream",
     "text": [
      "Embeddings loaded from arabert_embeddings.npy\n",
      "Loaded embeddings shape: (83156, 768)\n"
     ]
    }
   ],
   "source": [
    "# Load embeddings\n",
    "loaded_embeddings = load_embeddings(\"arabert_embeddings.npy\")\n",
    "print(\"Loaded embeddings shape:\", loaded_embeddings.shape)"
   ]
  },
  {
   "cell_type": "code",
   "execution_count": 61,
   "metadata": {},
   "outputs": [
    {
     "data": {
      "text/plain": [
       "array([[ 0.01987459, -0.20086713, -0.3103138 , ...,  0.70592767,\n",
       "         0.9726829 , -0.29565904],\n",
       "       [ 0.24599248, -0.73253095, -0.54039204, ...,  0.6744927 ,\n",
       "         0.69471467, -0.2850599 ],\n",
       "       [ 0.5920705 , -0.13361959, -0.20964104, ...,  0.870025  ,\n",
       "         0.32222578, -0.59192765],\n",
       "       ...,\n",
       "       [ 0.17128937, -0.23018815, -0.15436581, ...,  0.5690381 ,\n",
       "         0.678178  ,  0.6709614 ],\n",
       "       [-0.01975196, -0.19213332,  0.17608729, ...,  0.46053803,\n",
       "         0.06347512,  0.04263728],\n",
       "       [ 0.37528637, -0.49403656, -0.7625806 , ...,  0.70800215,\n",
       "         0.7007877 , -0.50501335]], dtype=float32)"
      ]
     },
     "execution_count": 61,
     "metadata": {},
     "output_type": "execute_result"
    }
   ],
   "source": [
    "loaded_embeddings"
   ]
  },
  {
   "cell_type": "code",
   "execution_count": 62,
   "metadata": {},
   "outputs": [
    {
     "name": "stdout",
     "output_type": "stream",
     "text": [
      "Shapes - Train: (58209, 768), Val: (12473, 768), Test: (12474, 768)\n",
      "Label Mapping: {'negative': 0, 'neutral': 1, 'positive': 2}\n"
     ]
    }
   ],
   "source": [
    "import numpy as np\n",
    "import pandas as pd\n",
    "from sklearn.model_selection import train_test_split\n",
    "\n",
    "\n",
    "# Map labels to 0, 1, 2\n",
    "label_mapping = {label: idx for idx, label in enumerate(df['label'].unique())}\n",
    "df['label'] = df['label'].map(label_mapping)\n",
    "\n",
    "# Convert labels to numpy array\n",
    "y = df['label'].values\n",
    "X = loaded_embeddings\n",
    "\n",
    "# Split data\n",
    "X_train, X_temp, y_train, y_temp = train_test_split(X, y, test_size=0.3, stratify=y, random_state=42)\n",
    "X_val, X_test, y_val, y_test = train_test_split(X_temp, y_temp, test_size=0.5, stratify=y_temp, random_state=42)\n",
    "\n",
    "print(f\"Shapes - Train: {X_train.shape}, Val: {X_val.shape}, Test: {X_test.shape}\")\n",
    "print(f\"Label Mapping: {label_mapping}\")\n"
   ]
  },
  {
   "cell_type": "markdown",
   "metadata": {},
   "source": [
    "## Step 2: Model Architectures\n",
    "Here are implementations for different architectures:"
   ]
  },
  {
   "cell_type": "markdown",
   "metadata": {},
   "source": [
    "### 1. Simple LSTM"
   ]
  },
  {
   "cell_type": "code",
   "execution_count": 63,
   "metadata": {},
   "outputs": [],
   "source": [
    "from keras.layers import (\n",
    "    LSTM, GRU, Dense, Dropout, Layer, MultiHeadAttention,\n",
    "    LayerNormalization, Input, GlobalAveragePooling1D\n",
    ")\n",
    "from keras.models import Sequential, Model\n",
    "import keras.backend as K\n",
    "\n",
    "\n",
    "def build_lstm(input_shape, num_classes):\n",
    "    model = Sequential()\n",
    "    model.add(LSTM(128, input_shape=input_shape, return_sequences=True))\n",
    "    model.add(Dropout(0.3))\n",
    "    model.add(LSTM(64))\n",
    "    model.add(Dropout(0.3))\n",
    "    model.add(Dense(num_classes, activation='softmax'))\n",
    "    model.compile(loss='sparse_categorical_crossentropy', optimizer='adam', metrics=['accuracy'])\n",
    "    return model"
   ]
  },
  {
   "cell_type": "markdown",
   "metadata": {},
   "source": [
    "### 2. LSTM with Attention"
   ]
  },
  {
   "cell_type": "code",
   "execution_count": 64,
   "metadata": {},
   "outputs": [],
   "source": [
    "class Attention(Layer):\n",
    "    def __init__(self, **kwargs):\n",
    "        super(Attention, self).__init__(**kwargs)\n",
    "\n",
    "    def build(self, input_shape):\n",
    "        self.W = self.add_weight(name='attention_weight', \n",
    "                                shape=(input_shape[-1], 1),\n",
    "                                initializer='random_normal')\n",
    "        super(Attention, self).build(input_shape)\n",
    "\n",
    "    def call(self, x):\n",
    "        e = K.tanh(K.dot(x, self.W))\n",
    "        a = K.softmax(e, axis=1)\n",
    "        output = x * a\n",
    "        return K.sum(output, axis=1)\n",
    "\n",
    "def build_lstm_attention(input_shape, num_classes):\n",
    "    model = Sequential()\n",
    "    model.add(LSTM(128, return_sequences=True, input_shape=input_shape))\n",
    "    model.add(Attention())\n",
    "    model.add(Dropout(0.3))\n",
    "    model.add(Dense(num_classes, activation='softmax'))\n",
    "    model.compile(loss='sparse_categorical_crossentropy', optimizer='adam', metrics=['accuracy'])\n",
    "    return model"
   ]
  },
  {
   "cell_type": "markdown",
   "metadata": {},
   "source": [
    "### 3. GRU"
   ]
  },
  {
   "cell_type": "code",
   "execution_count": 65,
   "metadata": {},
   "outputs": [],
   "source": [
    "def build_gru(input_shape, num_classes):\n",
    "    model = Sequential()\n",
    "    model.add(GRU(128, input_shape=input_shape, return_sequences=True))\n",
    "    model.add(Dropout(0.3))\n",
    "    model.add(GRU(64))\n",
    "    model.add(Dropout(0.3))\n",
    "    model.add(Dense(num_classes, activation='softmax'))\n",
    "    model.compile(loss='sparse_categorical_crossentropy', optimizer='adam', metrics=['accuracy'])\n",
    "    return model"
   ]
  },
  {
   "cell_type": "markdown",
   "metadata": {},
   "source": [
    "### 4. Transformer"
   ]
  },
  {
   "cell_type": "code",
   "execution_count": 66,
   "metadata": {},
   "outputs": [],
   "source": [
    "def transformer_encoder(inputs, head_size, num_heads, ff_dim, dropout=0):\n",
    "    x = MultiHeadAttention(num_heads=num_heads, key_dim=head_size)(inputs, inputs)\n",
    "    x = Dropout(dropout)(x)\n",
    "    x = LayerNormalization(epsilon=1e-6)(x + inputs)\n",
    "    ff = Dense(ff_dim, activation=\"relu\")(x)\n",
    "    ff = Dense(inputs.shape[-1])(ff)\n",
    "    ff = Dropout(dropout)(ff)\n",
    "    return LayerNormalization(epsilon=1e-6)(ff + x)\n",
    "\n",
    "def build_transformer(input_shape, num_classes):\n",
    "    inputs = Input(shape=input_shape)\n",
    "    x = transformer_encoder(inputs, head_size=128, num_heads=4, ff_dim=256, dropout=0.2)\n",
    "    x = GlobalAveragePooling1D()(x)\n",
    "    outputs = Dense(num_classes, activation=\"softmax\")(x)\n",
    "    model = Model(inputs=inputs, outputs=outputs)\n",
    "    model.compile(loss='sparse_categorical_crossentropy', optimizer='adam', metrics=['accuracy'])\n",
    "    return model"
   ]
  },
  {
   "cell_type": "markdown",
   "metadata": {},
   "source": [
    "## Step 3: Training and Evaluation"
   ]
  },
  {
   "cell_type": "code",
   "execution_count": 67,
   "metadata": {},
   "outputs": [
    {
     "name": "stdout",
     "output_type": "stream",
     "text": [
      "Label shapes - y_train: (58209,), y_val: (12473,), y_test: (12474,)\n"
     ]
    },
    {
     "name": "stderr",
     "output_type": "stream",
     "text": [
      "2025-02-01 20:32:49.961710: I external/local_xla/xla/stream_executor/cuda/cuda_executor.cc:901] successful NUMA node read from SysFS had negative value (-1), but there must be at least one NUMA node, so returning NUMA node zero. See more at https://github.com/torvalds/linux/blob/v6.0/Documentation/ABI/testing/sysfs-bus-pci#L344-L355\n",
      "2025-02-01 20:32:50.496001: I external/local_xla/xla/stream_executor/cuda/cuda_executor.cc:901] successful NUMA node read from SysFS had negative value (-1), but there must be at least one NUMA node, so returning NUMA node zero. See more at https://github.com/torvalds/linux/blob/v6.0/Documentation/ABI/testing/sysfs-bus-pci#L344-L355\n",
      "2025-02-01 20:32:50.496257: I external/local_xla/xla/stream_executor/cuda/cuda_executor.cc:901] successful NUMA node read from SysFS had negative value (-1), but there must be at least one NUMA node, so returning NUMA node zero. See more at https://github.com/torvalds/linux/blob/v6.0/Documentation/ABI/testing/sysfs-bus-pci#L344-L355\n",
      "2025-02-01 20:32:50.541997: I external/local_xla/xla/stream_executor/cuda/cuda_executor.cc:901] successful NUMA node read from SysFS had negative value (-1), but there must be at least one NUMA node, so returning NUMA node zero. See more at https://github.com/torvalds/linux/blob/v6.0/Documentation/ABI/testing/sysfs-bus-pci#L344-L355\n",
      "2025-02-01 20:32:50.542261: I external/local_xla/xla/stream_executor/cuda/cuda_executor.cc:901] successful NUMA node read from SysFS had negative value (-1), but there must be at least one NUMA node, so returning NUMA node zero. See more at https://github.com/torvalds/linux/blob/v6.0/Documentation/ABI/testing/sysfs-bus-pci#L344-L355\n",
      "2025-02-01 20:32:50.542420: I external/local_xla/xla/stream_executor/cuda/cuda_executor.cc:901] successful NUMA node read from SysFS had negative value (-1), but there must be at least one NUMA node, so returning NUMA node zero. See more at https://github.com/torvalds/linux/blob/v6.0/Documentation/ABI/testing/sysfs-bus-pci#L344-L355\n",
      "2025-02-01 20:32:50.542803: I external/local_xla/xla/stream_executor/cuda/cuda_executor.cc:901] successful NUMA node read from SysFS had negative value (-1), but there must be at least one NUMA node, so returning NUMA node zero. See more at https://github.com/torvalds/linux/blob/v6.0/Documentation/ABI/testing/sysfs-bus-pci#L344-L355\n",
      "2025-02-01 20:32:50.542952: I external/local_xla/xla/stream_executor/cuda/cuda_executor.cc:901] successful NUMA node read from SysFS had negative value (-1), but there must be at least one NUMA node, so returning NUMA node zero. See more at https://github.com/torvalds/linux/blob/v6.0/Documentation/ABI/testing/sysfs-bus-pci#L344-L355\n",
      "2025-02-01 20:32:50.543083: I external/local_xla/xla/stream_executor/cuda/cuda_executor.cc:901] successful NUMA node read from SysFS had negative value (-1), but there must be at least one NUMA node, so returning NUMA node zero. See more at https://github.com/torvalds/linux/blob/v6.0/Documentation/ABI/testing/sysfs-bus-pci#L344-L355\n",
      "2025-02-01 20:32:50.543207: I tensorflow/core/common_runtime/gpu/gpu_device.cc:1929] Created device /job:localhost/replica:0/task:0/device:GPU:0 with 5722 MB memory:  -> device: 0, name: NVIDIA GeForce RTX 4060 Laptop GPU, pci bus id: 0000:01:00.0, compute capability: 8.9\n"
     ]
    },
    {
     "name": "stdout",
     "output_type": "stream",
     "text": [
      "\n",
      "Training LSTM...\n",
      "Epoch 1/100\n"
     ]
    },
    {
     "name": "stderr",
     "output_type": "stream",
     "text": [
      "2025-02-01 20:32:54.592451: I external/local_xla/xla/stream_executor/cuda/cuda_dnn.cc:454] Loaded cuDNN version 8907\n",
      "2025-02-01 20:32:56.434275: I external/local_xla/xla/service/service.cc:168] XLA service 0x7d9c7833d620 initialized for platform CUDA (this does not guarantee that XLA will be used). Devices:\n",
      "2025-02-01 20:32:56.434298: I external/local_xla/xla/service/service.cc:176]   StreamExecutor device (0): NVIDIA GeForce RTX 4060 Laptop GPU, Compute Capability 8.9\n",
      "2025-02-01 20:32:56.438104: I tensorflow/compiler/mlir/tensorflow/utils/dump_mlir_util.cc:269] disabling MLIR crash reproducer, set env var `MLIR_CRASH_REPRODUCER_DIRECTORY` to enable.\n",
      "WARNING: All log messages before absl::InitializeLog() is called are written to STDERR\n",
      "I0000 00:00:1738438376.524130   44828 device_compiler.h:186] Compiled cluster using XLA!  This line is logged at most once for the lifetime of the process.\n"
     ]
    },
    {
     "name": "stdout",
     "output_type": "stream",
     "text": [
      "910/910 [==============================] - 6s 2ms/step - loss: 0.9527 - accuracy: 0.5682 - val_loss: 0.9263 - val_accuracy: 0.5810\n",
      "Epoch 2/100\n",
      " 60/910 [>.............................] - ETA: 1s - loss: 0.9259 - accuracy: 0.5833"
     ]
    },
    {
     "name": "stderr",
     "output_type": "stream",
     "text": [
      "/home/adnane/anaconda3/envs/tf2.15_gpu/lib/python3.10/site-packages/keras/src/engine/training.py:3103: UserWarning: You are saving your model as an HDF5 file via `model.save()`. This file format is considered legacy. We recommend using instead the native Keras format, e.g. `model.save('my_model.keras')`.\n",
      "  saving_api.save_model(\n"
     ]
    },
    {
     "name": "stdout",
     "output_type": "stream",
     "text": [
      "910/910 [==============================] - 2s 2ms/step - loss: 0.9328 - accuracy: 0.5797 - val_loss: 0.9185 - val_accuracy: 0.5862\n",
      "Epoch 3/100\n",
      "910/910 [==============================] - 2s 2ms/step - loss: 0.9236 - accuracy: 0.5861 - val_loss: 0.9171 - val_accuracy: 0.5877\n",
      "Epoch 4/100\n",
      "910/910 [==============================] - 2s 2ms/step - loss: 0.9213 - accuracy: 0.5873 - val_loss: 0.9244 - val_accuracy: 0.5760\n",
      "Epoch 5/100\n",
      "910/910 [==============================] - 2s 2ms/step - loss: 0.9183 - accuracy: 0.5870 - val_loss: 0.9117 - val_accuracy: 0.5886\n",
      "Epoch 6/100\n",
      "910/910 [==============================] - 2s 2ms/step - loss: 0.9144 - accuracy: 0.5894 - val_loss: 0.9103 - val_accuracy: 0.5881\n",
      "Epoch 7/100\n",
      "910/910 [==============================] - 2s 2ms/step - loss: 0.9125 - accuracy: 0.5911 - val_loss: 0.9108 - val_accuracy: 0.5893\n",
      "Epoch 8/100\n",
      "910/910 [==============================] - 2s 2ms/step - loss: 0.9110 - accuracy: 0.5923 - val_loss: 0.9164 - val_accuracy: 0.5823\n",
      "Epoch 9/100\n",
      "910/910 [==============================] - 2s 2ms/step - loss: 0.9084 - accuracy: 0.5932 - val_loss: 0.9064 - val_accuracy: 0.5869\n",
      "Epoch 10/100\n",
      "910/910 [==============================] - 2s 2ms/step - loss: 0.9076 - accuracy: 0.5922 - val_loss: 0.9038 - val_accuracy: 0.5921\n",
      "Epoch 11/100\n",
      "910/910 [==============================] - 2s 2ms/step - loss: 0.9074 - accuracy: 0.5926 - val_loss: 0.9066 - val_accuracy: 0.5912\n",
      "Epoch 12/100\n",
      "910/910 [==============================] - 2s 2ms/step - loss: 0.9056 - accuracy: 0.5925 - val_loss: 0.9104 - val_accuracy: 0.5898\n",
      "Epoch 13/100\n",
      "910/910 [==============================] - 2s 2ms/step - loss: 0.9058 - accuracy: 0.5924 - val_loss: 0.9016 - val_accuracy: 0.5927\n",
      "Epoch 14/100\n",
      "910/910 [==============================] - 2s 2ms/step - loss: 0.9034 - accuracy: 0.5946 - val_loss: 0.9033 - val_accuracy: 0.5937\n",
      "Epoch 15/100\n",
      "910/910 [==============================] - 2s 2ms/step - loss: 0.9015 - accuracy: 0.5951 - val_loss: 0.8992 - val_accuracy: 0.5939\n",
      "Epoch 16/100\n",
      "910/910 [==============================] - 2s 2ms/step - loss: 0.9013 - accuracy: 0.5955 - val_loss: 0.9053 - val_accuracy: 0.5898\n",
      "Epoch 17/100\n",
      "910/910 [==============================] - 2s 2ms/step - loss: 0.9005 - accuracy: 0.5964 - val_loss: 0.8974 - val_accuracy: 0.5938\n",
      "Epoch 18/100\n",
      "910/910 [==============================] - 2s 2ms/step - loss: 0.9014 - accuracy: 0.5956 - val_loss: 0.8998 - val_accuracy: 0.5947\n",
      "Epoch 19/100\n",
      "910/910 [==============================] - 2s 2ms/step - loss: 0.9003 - accuracy: 0.5964 - val_loss: 0.9072 - val_accuracy: 0.5910\n",
      "Epoch 20/100\n",
      "910/910 [==============================] - 2s 2ms/step - loss: 0.8994 - accuracy: 0.5966 - val_loss: 0.8975 - val_accuracy: 0.5915\n"
     ]
    },
    {
     "data": {
      "image/png": "[encoded data removed]",
      "text/plain": [
       "<Figure size 1200x500 with 2 Axes>"
      ]
     },
     "metadata": {},
     "output_type": "display_data"
    },
    {
     "name": "stdout",
     "output_type": "stream",
     "text": [
      "390/390 [==============================] - 0s 865us/step - loss: 0.8969 - accuracy: 0.5964\n",
      "LSTM Test Accuracy: 0.5964\n",
      "\n",
      "Training LSTM_Attention...\n",
      "Epoch 1/100\n",
      "910/910 [==============================] - 3s 2ms/step - loss: 0.9492 - accuracy: 0.5715 - val_loss: 0.9209 - val_accuracy: 0.5813\n",
      "Epoch 2/100\n",
      "910/910 [==============================] - 1s 1ms/step - loss: 0.9280 - accuracy: 0.5823 - val_loss: 0.9271 - val_accuracy: 0.5839\n",
      "Epoch 3/100\n",
      "910/910 [==============================] - 1s 1ms/step - loss: 0.9210 - accuracy: 0.5853 - val_loss: 0.9180 - val_accuracy: 0.5838\n",
      "Epoch 4/100\n",
      "910/910 [==============================] - 1s 1ms/step - loss: 0.9188 - accuracy: 0.5864 - val_loss: 0.9272 - val_accuracy: 0.5855\n",
      "Epoch 5/100\n",
      "910/910 [==============================] - 1s 1ms/step - loss: 0.9142 - accuracy: 0.5896 - val_loss: 0.9052 - val_accuracy: 0.5905\n",
      "Epoch 6/100\n",
      "910/910 [==============================] - 1s 1ms/step - loss: 0.9119 - accuracy: 0.5900 - val_loss: 0.9063 - val_accuracy: 0.5902\n",
      "Epoch 7/100\n",
      "910/910 [==============================] - 1s 1ms/step - loss: 0.9103 - accuracy: 0.5908 - val_loss: 0.9039 - val_accuracy: 0.5910\n",
      "Epoch 8/100\n",
      "910/910 [==============================] - 1s 1ms/step - loss: 0.9090 - accuracy: 0.5922 - val_loss: 0.9016 - val_accuracy: 0.5925\n",
      "Epoch 9/100\n",
      "910/910 [==============================] - 1s 1ms/step - loss: 0.9067 - accuracy: 0.5928 - val_loss: 0.9177 - val_accuracy: 0.5828\n",
      "Epoch 10/100\n",
      "910/910 [==============================] - 1s 1ms/step - loss: 0.9061 - accuracy: 0.5927 - val_loss: 0.9037 - val_accuracy: 0.5937\n",
      "Epoch 11/100\n",
      "910/910 [==============================] - 1s 1ms/step - loss: 0.9046 - accuracy: 0.5937 - val_loss: 0.9045 - val_accuracy: 0.5914\n"
     ]
    },
    {
     "data": {
      "image/png": "[encoded data removed]",
      "text/plain": [
       "<Figure size 1200x500 with 2 Axes>"
      ]
     },
     "metadata": {},
     "output_type": "display_data"
    },
    {
     "name": "stdout",
     "output_type": "stream",
     "text": [
      "390/390 [==============================] - 0s 759us/step - loss: 0.9017 - accuracy: 0.5940\n",
      "LSTM_Attention Test Accuracy: 0.5940\n",
      "\n",
      "Training GRU...\n",
      "Epoch 1/100\n",
      "910/910 [==============================] - 3s 2ms/step - loss: 0.9619 - accuracy: 0.5630 - val_loss: 0.9307 - val_accuracy: 0.5798\n",
      "Epoch 2/100\n",
      "910/910 [==============================] - 2s 2ms/step - loss: 0.9317 - accuracy: 0.5808 - val_loss: 0.9274 - val_accuracy: 0.5834\n",
      "Epoch 3/100\n",
      "910/910 [==============================] - 2s 2ms/step - loss: 0.9243 - accuracy: 0.5861 - val_loss: 0.9290 - val_accuracy: 0.5801\n",
      "Epoch 4/100\n",
      "910/910 [==============================] - 2s 2ms/step - loss: 0.9208 - accuracy: 0.5867 - val_loss: 0.9104 - val_accuracy: 0.5903\n",
      "Epoch 5/100\n",
      "910/910 [==============================] - 2s 2ms/step - loss: 0.9172 - accuracy: 0.5888 - val_loss: 0.9134 - val_accuracy: 0.5880\n",
      "Epoch 6/100\n",
      "910/910 [==============================] - 2s 2ms/step - loss: 0.9145 - accuracy: 0.5908 - val_loss: 0.9106 - val_accuracy: 0.5899\n",
      "Epoch 7/100\n",
      "910/910 [==============================] - 2s 2ms/step - loss: 0.9113 - accuracy: 0.5910 - val_loss: 0.9079 - val_accuracy: 0.5904\n",
      "Epoch 8/100\n",
      "910/910 [==============================] - 2s 2ms/step - loss: 0.9106 - accuracy: 0.5933 - val_loss: 0.9188 - val_accuracy: 0.5824\n",
      "Epoch 9/100\n",
      "910/910 [==============================] - 2s 2ms/step - loss: 0.9101 - accuracy: 0.5919 - val_loss: 0.9164 - val_accuracy: 0.5898\n",
      "Epoch 10/100\n",
      "910/910 [==============================] - 2s 2ms/step - loss: 0.9061 - accuracy: 0.5946 - val_loss: 0.9025 - val_accuracy: 0.5936\n",
      "Epoch 11/100\n",
      "910/910 [==============================] - 2s 2ms/step - loss: 0.9065 - accuracy: 0.5931 - val_loss: 0.9009 - val_accuracy: 0.5938\n",
      "Epoch 12/100\n",
      "910/910 [==============================] - 2s 2ms/step - loss: 0.9063 - accuracy: 0.5942 - val_loss: 0.9002 - val_accuracy: 0.5935\n",
      "Epoch 13/100\n",
      "910/910 [==============================] - 2s 2ms/step - loss: 0.9040 - accuracy: 0.5947 - val_loss: 0.9137 - val_accuracy: 0.5921\n",
      "Epoch 14/100\n",
      "910/910 [==============================] - 2s 2ms/step - loss: 0.9040 - accuracy: 0.5930 - val_loss: 0.9036 - val_accuracy: 0.5924\n",
      "Epoch 15/100\n",
      "910/910 [==============================] - 2s 2ms/step - loss: 0.9045 - accuracy: 0.5933 - val_loss: 0.9027 - val_accuracy: 0.5922\n"
     ]
    },
    {
     "data": {
      "image/png": "[encoded data removed]",
      "text/plain": [
       "<Figure size 1200x500 with 2 Axes>"
      ]
     },
     "metadata": {},
     "output_type": "display_data"
    },
    {
     "name": "stdout",
     "output_type": "stream",
     "text": [
      "390/390 [==============================] - 0s 833us/step - loss: 0.8991 - accuracy: 0.5981\n",
      "GRU Test Accuracy: 0.5981\n",
      "\n",
      "Training Transformer...\n",
      "Epoch 1/100\n",
      "910/910 [==============================] - 5s 4ms/step - loss: 1.0084 - accuracy: 0.5471 - val_loss: 0.9253 - val_accuracy: 0.5809\n",
      "Epoch 2/100\n",
      "910/910 [==============================] - 2s 2ms/step - loss: 0.9288 - accuracy: 0.5818 - val_loss: 0.9643 - val_accuracy: 0.5711\n",
      "Epoch 3/100\n",
      "910/910 [==============================] - 2s 2ms/step - loss: 0.9222 - accuracy: 0.5858 - val_loss: 0.9374 - val_accuracy: 0.5844\n",
      "Epoch 4/100\n",
      "910/910 [==============================] - 8s 8ms/step - loss: 0.9158 - accuracy: 0.5901 - val_loss: 0.9076 - val_accuracy: 0.5906\n",
      "Epoch 5/100\n",
      "910/910 [==============================] - 2s 2ms/step - loss: 0.9139 - accuracy: 0.5911 - val_loss: 0.9298 - val_accuracy: 0.5881\n",
      "Epoch 6/100\n",
      "910/910 [==============================] - 2s 2ms/step - loss: 0.9112 - accuracy: 0.5910 - val_loss: 0.9146 - val_accuracy: 0.5922\n",
      "Epoch 7/100\n",
      "910/910 [==============================] - 2s 2ms/step - loss: 0.9086 - accuracy: 0.5920 - val_loss: 0.9868 - val_accuracy: 0.5746\n"
     ]
    },
    {
     "data": {
      "image/png": "[encoded data removed]",
      "text/plain": [
       "<Figure size 1200x500 with 2 Axes>"
      ]
     },
     "metadata": {},
     "output_type": "display_data"
    },
    {
     "name": "stdout",
     "output_type": "stream",
     "text": [
      "390/390 [==============================] - 0s 929us/step - loss: 0.9066 - accuracy: 0.5925\n",
      "Transformer Test Accuracy: 0.5925\n"
     ]
    }
   ],
   "source": [
    "from keras.callbacks import EarlyStopping, ModelCheckpoint\n",
    "import matplotlib.pyplot as plt\n",
    "\n",
    "def train_and_evaluate(model, model_name, X_train_model, X_val_model, X_test_model):\n",
    "    early_stop = EarlyStopping(monitor='val_loss', patience=3, restore_best_weights=True)\n",
    "    checkpoint = ModelCheckpoint(f'best_{model_name}.h5', save_best_only=True)\n",
    "    \n",
    "    history = model.fit(\n",
    "        X_train_model, y_train,\n",
    "        validation_data=(X_val_model, y_val),\n",
    "        epochs=100,\n",
    "        batch_size=64,\n",
    "        callbacks=[early_stop, checkpoint]\n",
    "    )\n",
    "    \n",
    "    # Plot training history\n",
    "    plt.figure(figsize=(12, 5))\n",
    "    \n",
    "    plt.subplot(1, 2, 1)\n",
    "    plt.plot(history.history['accuracy'], label='Train Accuracy')\n",
    "    plt.plot(history.history['val_accuracy'], label='Val Accuracy')\n",
    "    plt.title(f'{model_name} Accuracy')\n",
    "    plt.legend()\n",
    "    \n",
    "    plt.subplot(1, 2, 2)\n",
    "    plt.plot(history.history['loss'], label='Train Loss')\n",
    "    plt.plot(history.history['val_loss'], label='Val Loss')\n",
    "    plt.title(f'{model_name} Loss')\n",
    "    plt.legend()\n",
    "    \n",
    "    plt.tight_layout()\n",
    "    plt.show()\n",
    "    \n",
    "    # Evaluate\n",
    "    test_loss, test_acc = model.evaluate(X_test_model, y_test)\n",
    "    print(f'{model_name} Test Accuracy: {test_acc:.4f}')\n",
    "    return test_acc\n",
    "\n",
    "# Verify label shapes\n",
    "print(f\"Label shapes - y_train: {y_train.shape}, y_val: {y_val.shape}, y_test: {y_test.shape}\")\n",
    "\n",
    "# Reshape data for sequence models\n",
    "X_train_3d = X_train.reshape((X_train.shape[0], 1, X_train.shape[1]))\n",
    "X_val_3d = X_val.reshape((X_val.shape[0], 1, X_val.shape[1]))\n",
    "X_test_3d = X_test.reshape((X_test.shape[0], 1, X_train.shape[1]))\n",
    "\n",
    "# Initialize models with corrected architectures\n",
    "num_classes = 3\n",
    "models = {\n",
    "    'LSTM': (build_lstm((1, X_train.shape[1]), num_classes), X_train_3d, X_val_3d, X_test_3d),\n",
    "    'LSTM_Attention': (build_lstm_attention((1, X_train.shape[1]), num_classes), X_train_3d, X_val_3d, X_test_3d),\n",
    "    'GRU': (build_gru((1, X_train.shape[1]), num_classes), X_train_3d, X_val_3d, X_test_3d),\n",
    "    'Transformer': (build_transformer((1, X_train.shape[1]), num_classes), X_train_3d, X_val_3d, X_test_3d)\n",
    "}\n",
    "\n",
    "# Train and compare models\n",
    "results = {}\n",
    "for name, (model, X_tr, X_v, X_te) in models.items():\n",
    "    print(f\"\\nTraining {name}...\")\n",
    "    results[name] = train_and_evaluate(model, name, X_tr, X_v, X_te)"
   ]
  },
  {
   "cell_type": "markdown",
   "metadata": {},
   "source": [
    "## Step 4: Model Saving & Prediction\n"
   ]
  },
  {
   "cell_type": "code",
   "execution_count": 68,
   "metadata": {},
   "outputs": [
    {
     "name": "stdout",
     "output_type": "stream",
     "text": [
      "Best model saved as: arabic_sentiment_GRU.h5\n",
      "Label encoder saved as: label_encoder.pkl\n"
     ]
    }
   ],
   "source": [
    "import joblib\n",
    "import tensorflow as tf\n",
    "from tensorflow import keras\n",
    "\n",
    "# Ensure `best_model` is a Keras model (not a tuple)\n",
    "best_model_name = max(results, key=results.get)\n",
    "best_model = models[best_model_name]\n",
    "\n",
    "# If `models[best_model_name]` is a tuple, extract the model\n",
    "if isinstance(best_model, tuple):\n",
    "    best_model = best_model[0]  # Assuming the first element is the Keras model\n",
    "\n",
    "# Save the model\n",
    "model_path = f'arabic_sentiment_{best_model_name}.h5'\n",
    "best_model.save(model_path)\n",
    "print(f\"Best model saved as: {model_path}\")\n",
    "\n",
    "# Save the label encoder\n",
    "# joblib.dump(le, 'label_encoder.pkl')\n",
    "print(\"Label encoder saved as: label_encoder.pkl\")\n",
    "\n"
   ]
  },
  {
   "cell_type": "markdown",
   "metadata": {},
   "source": [
    "Confusion matrix & classification report"
   ]
  },
  {
   "cell_type": "code",
   "execution_count": 71,
   "metadata": {},
   "outputs": [],
   "source": [
    "import seaborn as sns\n",
    "import matplotlib.pyplot as plt\n",
    "from sklearn.metrics import confusion_matrix, classification_report\n",
    "\n",
    "def plot_confusion_matrix(model, X_test, y_test, label_mapping):\n",
    "    \"\"\"\n",
    "    Displays the confusion matrix for the best-performing model.\n",
    "\n",
    "    Args:\n",
    "        model (keras.Model): The trained sentiment analysis model.\n",
    "        X_test (numpy.ndarray): Test data (embeddings).\n",
    "        y_test (numpy.ndarray): True labels.\n",
    "        label_mapping (dict): Dictionary mapping label names to indices.\n",
    "    \"\"\"\n",
    "    # Make predictions\n",
    "    y_pred = model.predict(X_test)\n",
    "    y_pred_labels = np.argmax(y_pred, axis=1)  # Convert softmax outputs to class indices\n",
    "\n",
    "    # Compute confusion matrix\n",
    "    cm = confusion_matrix(y_test, y_pred_labels)\n",
    "    \n",
    "    # Decode class labels\n",
    "    class_names = list(label_mapping.keys())  # Get original class names\n",
    "    \n",
    "    # Plot the confusion matrix\n",
    "    plt.figure(figsize=(8, 6))\n",
    "    sns.heatmap(cm, annot=True, fmt=\"d\", cmap=\"Blues\", xticklabels=class_names, yticklabels=class_names)\n",
    "    plt.xlabel('Predicted Label')\n",
    "    plt.ylabel('True Label')\n",
    "    plt.title('Confusion Matrix')\n",
    "    plt.show()\n",
    "\n",
    "    # Print classification report\n",
    "    print(\"\\nClassification Report:\")\n",
    "    print(classification_report(y_test, y_pred_labels, target_names=class_names))\n",
    "\n",
    "\n"
   ]
  },
  {
   "cell_type": "code",
   "execution_count": 74,
   "metadata": {},
   "outputs": [
    {
     "name": "stdout",
     "output_type": "stream",
     "text": [
      "390/390 [==============================] - 1s 880us/step\n"
     ]
    },
    {
     "data": {
      "image/png": "[encoded data removed]",
      "text/plain": [
       "<Figure size 800x600 with 2 Axes>"
      ]
     },
     "metadata": {},
     "output_type": "display_data"
    },
    {
     "name": "stdout",
     "output_type": "stream",
     "text": [
      "\n",
      "Classification Report:\n",
      "              precision    recall  f1-score   support\n",
      "\n",
      "    negative       0.62      0.91      0.74      6686\n",
      "     neutral       0.42      0.03      0.06      3167\n",
      "    positive       0.53      0.48      0.50      2621\n",
      "\n",
      "    accuracy                           0.60     12474\n",
      "   macro avg       0.52      0.47      0.43     12474\n",
      "weighted avg       0.55      0.60      0.52     12474\n",
      "\n"
     ]
    },
    {
     "ename": "",
     "evalue": "",
     "output_type": "error",
     "traceback": [
      "\u001b[1;31mThe Kernel crashed while executing code in the current cell or a previous cell. \n",
      "\u001b[1;31mPlease review the code in the cell(s) to identify a possible cause of the failure. \n",
      "\u001b[1;31mClick <a href='https://aka.ms/vscodeJupyterKernelCrash'>here</a> for more info. \n",
      "\u001b[1;31mView Jupyter <a href='command:jupyter.viewOutput'>log</a> for further details."
     ]
    }
   ],
   "source": [
    "# Reshape X_test to match the expected input shape\n",
    "X_test_reshaped = X_test.reshape((X_test.shape[0], 1, X_test.shape[1]))\n",
    "\n",
    "# plot confusion matrix\n",
    "plot_confusion_matrix(best_model, X_test_reshaped, y_test, label_mapping)"
   ]
  }
 ],
 "metadata": {
  "kernelspec": {
   "display_name": "tf2.15_gpu",
   "language": "python",
   "name": "python3"
  },
  "language_info": {
   "codemirror_mode": {
    "name": "ipython",
    "version": 3
   },
   "file_extension": ".py",
   "mimetype": "text/x-python",
   "name": "python",
   "nbconvert_exporter": "python",
   "pygments_lexer": "ipython3",
   "version": "3.10.13"
  }
 },
 "nbformat": 4,
 "nbformat_minor": 2
}
